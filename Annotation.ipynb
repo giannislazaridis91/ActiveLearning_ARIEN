{
 "cells": [
  {
   "cell_type": "markdown",
   "metadata": {},
   "source": [
    "# Text Annotation."
   ]
  },
  {
   "cell_type": "markdown",
   "metadata": {},
   "source": [
    "### Define the json file to train a model. Run the bellow code if you want to train the model with your data."
   ]
  },
  {
   "cell_type": "markdown",
   "metadata": {},
   "source": [
    "- Set your own paths for the text dataset and the labels (.txt files) within the JSON file."
   ]
  },
  {
   "cell_type": "code",
   "execution_count": 1,
   "metadata": {},
   "outputs": [
    {
     "name": "stdout",
     "output_type": "stream",
     "text": [
      "Load the configuration from the JSON file.\n",
      "Read data from the specified text files and create a DataFrame.\n",
      "Prepare the data for training and testing.\n",
      "Selected indices for uncertainty: [2 0 1 5 4 3]\n",
      "No more samples left in X_test to annotate.\n",
      "Model saved successfully.\n"
     ]
    }
   ],
   "source": [
    "import active_learning_text\n",
    "import json\n",
    "\n",
    "# Define the JSON structure.\n",
    "annotation_config_text = {\n",
    "  \"data_type\": \"text\", # Type \"image\" for images or \"text\" for text dataset.\n",
    "  \"data\": \"./unlabeled_text_data.txt\", # Type the exact path to the data.\n",
    "  \"labels\": \"./true_text_labels.txt\", # Type the exact path to the labels.\n",
    "  \"active_learning_method\": \"uncertainty\" # Type \"uncertainty\" for uncertainty sampling or \"entropy\" for entropy sampling.\n",
    "}\n",
    "\n",
    "# Create the JSON file.\n",
    "path_to_save_the_json_file = \"./annotation_config_text.json\"\n",
    "with open(path_to_save_the_json_file, \"w\") as json_file:\n",
    "    json.dump(annotation_config_text, json_file, indent=4)\n",
    "\n",
    "with open(path_to_save_the_json_file, 'r') as f:  # Open the JSON file in read mode.\n",
    "    json_file = json.load(f)\n",
    "data_type = json_file['data_type']\n",
    "\n",
    "if data_type == 'text':\n",
    "    active_learning_text.active_learning(\"annotation_config_text.json\") # Train a model with the dataset."
   ]
  },
  {
   "cell_type": "markdown",
   "metadata": {},
   "source": [
    "### Use the model to annotate your text data."
   ]
  },
  {
   "cell_type": "markdown",
   "metadata": {},
   "source": [
    "- Set your own paths for the text dataset and the labels (.txt files) within the JSON file."
   ]
  },
  {
   "cell_type": "code",
   "execution_count": 2,
   "metadata": {},
   "outputs": [
    {
     "name": "stdout",
     "output_type": "stream",
     "text": [
      "Loading data and labels from the JSON file.\n",
      "Predicted labels saved to ./predicted_text_labels.txt.\n",
      "JSON configuration saved to ./results.json.\n"
     ]
    }
   ],
   "source": [
    "# Define the JSON structure.\n",
    "annotation_config_text_annotations = {\n",
    "    \"data_type\": \"text\",  # Type \"image\" for images or \"text\" for text dataset.\n",
    "    \"classification_type\": \"multi-class\",\n",
    "    \"data\": \"./unlabeled_data_2.txt\",  # Type the exact path to the data.\n",
    "    \"labels\": \"./true_labels_2.txt\",  # Type the exact path to the labels.\n",
    "    \"active_learning_method\": \"uncertainty\"  # Type \"uncertainty\" for uncertainty sampling or \"entropy\" for entropy sampling.\n",
    "}\n",
    "\n",
    "# Create the JSON file.\n",
    "path_to_save_the_json_file = \"./annotation_config_text_annotations.json\"\n",
    "with open(path_to_save_the_json_file, \"w\") as json_file:\n",
    "    json.dump(annotation_config_text_annotations, json_file, indent=4)\n",
    "\n",
    "# Load model and JSON configuration for predictions.\n",
    "model_path = \"./trained_model_for_text_annotation.joblib\"  # Path to the model.\n",
    "output_file = \"./predicted_text_labels.txt\"  # Path to the output file that will contain the predicted labels.\n",
    "\n",
    "# Now pass the file path, not the loaded dictionary.\n",
    "active_learning_text.predict_and_evaluate(model_path=model_path, json_file=path_to_save_the_json_file, output_file=output_file)"
   ]
  },
  {
   "cell_type": "markdown",
   "metadata": {},
   "source": [
    "# Image annotation."
   ]
  },
  {
   "cell_type": "markdown",
   "metadata": {},
   "source": [
    "- Example for image annotation using the CIFAR-10 dataset. Train a model. Set your own paths for the data (images) and the labels."
   ]
  },
  {
   "cell_type": "code",
   "execution_count": 3,
   "metadata": {},
   "outputs": [
    {
     "name": "stdout",
     "output_type": "stream",
     "text": [
      "Files already downloaded and verified\n",
      "Files already downloaded and verified\n",
      "Images saved to ./cifar_images.\n",
      "Image paths saved to ./cifar_images/image_paths.txt.\n",
      "Labels saved to ./cifar_images/labels.txt.\n"
     ]
    }
   ],
   "source": [
    "import os\n",
    "from PIL import Image\n",
    "import numpy as np\n",
    "from torchvision import datasets, transforms\n",
    "import active_learning_images\n",
    "\n",
    "# Upload your images and the labels into your folder. This is an example for CIFAR-10 dataset.\n",
    "\n",
    "# Load the CIFAR-10 dataset.\n",
    "# Define transformations for CIFAR-10.\n",
    "transform = transforms.Compose([transforms.ToPILImage()])  # We will save as PIL images.\n",
    "\n",
    "# Download CIFAR-10 dataset\n",
    "train_dataset = datasets.CIFAR10(root='./data', train=True, download=True, transform=transforms.ToTensor())\n",
    "test_dataset = datasets.CIFAR10(root='./data', train=False, download=True, transform=transforms.ToTensor())\n",
    "\n",
    "# Directory to save images.\n",
    "save_dir = './cifar_images'\n",
    "os.makedirs(save_dir, exist_ok=True)\n",
    "\n",
    "# File to save image paths and labels\n",
    "image_paths_file = os.path.join(save_dir, 'image_paths.txt')\n",
    "labels_file = os.path.join(save_dir, 'labels.txt')\n",
    "\n",
    "# Save images and labels from the CIFAR-10 dataset.\n",
    "with open(image_paths_file, 'w') as img_file, open(labels_file, 'w') as label_file:\n",
    "    for idx, (image_tensor, label) in enumerate(train_dataset):\n",
    "        # Convert tensor to PIL Image.\n",
    "        image = transforms.ToPILImage()(image_tensor)\n",
    "        \n",
    "        # Save the image.\n",
    "        image_path = os.path.join(save_dir, f\"image_{idx}.png\")\n",
    "        image.save(image_path)\n",
    "\n",
    "        # Write the image path and label to the respective files.\n",
    "        img_file.write(f\"{image_path}\\n\")\n",
    "        label_file.write(f\"{label}\\n\")\n",
    "\n",
    "print(f\"Images saved to {save_dir}.\")\n",
    "print(f\"Image paths saved to {image_paths_file}.\")\n",
    "print(f\"Labels saved to {labels_file}.\")"
   ]
  },
  {
   "cell_type": "markdown",
   "metadata": {},
   "source": [
    "### Train a model."
   ]
  },
  {
   "cell_type": "code",
   "execution_count": 4,
   "metadata": {},
   "outputs": [
    {
     "name": "stdout",
     "output_type": "stream",
     "text": [
      "JSON config file created.\n",
      "No more samples left to annotate.\n",
      "Model saved successfully.\n"
     ]
    }
   ],
   "source": [
    "import active_learning_images\n",
    "import json\n",
    "\n",
    "# Create the JSON file. Define the correct paths for your data.\n",
    "annotation_config_image = {\n",
    "    \"data_type\": \"image\",\n",
    "    \"classification_type\": \"multi-class\",\n",
    "    \"data\": \"./cifar_images/image_paths.txt\",\n",
    "    \"labels\": \"./cifar_images/labels.txt\",\n",
    "    \"active_learning_method\": \"uncertainty\"  # You can also try \"entropy\".\n",
    "}\n",
    "\n",
    "with open('annotation_config_image.json', 'w') as f:\n",
    "    json.dump(annotation_config_image, f, indent=4)\n",
    "\n",
    "print(\"JSON config file created.\")\n",
    "\n",
    "# Call the active_learning function for images.\n",
    "active_learning_images.active_learning('./annotation_config_image.json')"
   ]
  },
  {
   "cell_type": "markdown",
   "metadata": {},
   "source": [
    "### Use the model to annotate your image data."
   ]
  },
  {
   "cell_type": "code",
   "execution_count": 13,
   "metadata": {},
   "outputs": [
    {
     "name": "stdout",
     "output_type": "stream",
     "text": [
      "Predicted labels saved to ./predicted_image_labels.txt.\n",
      "JSON configuration saved to ./results.json.\n"
     ]
    }
   ],
   "source": [
    "import active_learning_images\n",
    "import json\n",
    "\n",
    "# Define the JSON structure.\n",
    "annotation_config_image = {\n",
    "    \"data_type\": \"image\",\n",
    "    \"classification_type\": \"multi-class\",\n",
    "    \"data\": \"./cifar_images/image_paths.txt\",\n",
    "    \"labels\": \"./cifar_images/labels.txt\",\n",
    "    \"active_learning_method\": \"uncertainty\"  # You can also try \"entropy\".\n",
    "}\n",
    "\n",
    "with open('annotation_config_image.json', 'w') as f:\n",
    "    json.dump(annotation_config_image, f, indent=4)\n",
    "\n",
    "# Load model and JSON configuration for predictions.\n",
    "json_file = \"./annotation_config_image.json\"\n",
    "model_path = \"./trained_model_for_image_annotation.joblib\"  # Path to the model.\n",
    "output_file = \"./predicted_image_labels.txt\"  # Path to the output file that will contain the predicted labels.\n",
    "\n",
    "# Now pass the file path, not the loaded dictionary.\n",
    "active_learning_images.predict_and_evaluate(model_path=model_path, json_file=json_file, output_file=output_file)"
   ]
  }
 ],
 "metadata": {
  "kernelspec": {
   "display_name": "RLATorch",
   "language": "python",
   "name": "python3"
  },
  "language_info": {
   "codemirror_mode": {
    "name": "ipython",
    "version": 3
   },
   "file_extension": ".py",
   "mimetype": "text/x-python",
   "name": "python",
   "nbconvert_exporter": "python",
   "pygments_lexer": "ipython3",
   "version": "3.9.20"
  }
 },
 "nbformat": 4,
 "nbformat_minor": 2
}
